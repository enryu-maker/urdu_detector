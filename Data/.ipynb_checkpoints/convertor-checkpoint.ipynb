{
 "cells": [
  {
   "cell_type": "code",
   "execution_count": 10,
   "metadata": {},
   "outputs": [
    {
     "ename": "IndentationError",
     "evalue": "expected an indented block (<ipython-input-10-071adc53accd>, line 23)",
     "output_type": "error",
     "traceback": [
      "\u001b[0;36m  File \u001b[0;32m\"<ipython-input-10-071adc53accd>\"\u001b[0;36m, line \u001b[0;32m23\u001b[0m\n\u001b[0;31m    writer_object = writer(f_object)\u001b[0m\n\u001b[0m    ^\u001b[0m\n\u001b[0;31mIndentationError\u001b[0m\u001b[0;31m:\u001b[0m expected an indented block\n"
     ]
    }
   ],
   "source": [
    "from PIL import Image\n",
    "from numpy import asarray, argmax\n",
    "import numpy\n",
    "import matplotlib.pyplot as plt\n",
    "import pandas as pd\n",
    "import os\n",
    "from csv import writer\n",
    "lst=[]\n",
    "directory = '/Users/akif/Desktop/Data_science/urdu_detector/Data/Alif'\n",
    "for filename in os.listdir(directory):\n",
    "    if filename.endswith('.png'):\n",
    "        lst.append(filename)\n",
    "for file in lst:\n",
    "    img = Image.open(file)\n",
    "    new_size=(100,100)\n",
    "    new =img.resize(new_size,resample=0)\n",
    "    Array_data =numpy.array(new)/255\n",
    "    List={\n",
    "            'DATA':Array_data,\n",
    "            'VAlUE':'Alif'\n",
    "        }\n",
    "    with open(f'{directory}.csv', 'a') as f_object:\n",
    "        writer_object = writer(f_object)\n",
    "        writer_object.writerow(List)\n",
    "        f_object.close()\n",
    "\n",
    "\n",
    "'''image = numpydata# plot the sample\n",
    "fig = plt.figure\n",
    "plt.imshow(image, cmap='gray')\n",
    "plt.show()'''"
   ]
  },
  {
   "cell_type": "code",
   "execution_count": null,
   "metadata": {},
   "outputs": [],
   "source": []
  }
 ],
 "metadata": {
  "interpreter": {
   "hash": "da05bbfbe0dfd13ce045b6e7e043e5154c91e8812d4e24d555d9e017fc18cdd9"
  },
  "kernelspec": {
   "display_name": "Python 3",
   "language": "python",
   "name": "python3"
  },
  "language_info": {
   "codemirror_mode": {
    "name": "ipython",
    "version": 3
   },
   "file_extension": ".py",
   "mimetype": "text/x-python",
   "name": "python",
   "nbconvert_exporter": "python",
   "pygments_lexer": "ipython3",
   "version": "3.8.12"
  }
 },
 "nbformat": 4,
 "nbformat_minor": 2
}
